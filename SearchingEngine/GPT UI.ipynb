{
 "cells": [
  {
   "cell_type": "code",
   "execution_count": 3,
   "metadata": {},
   "outputs": [],
   "source": [
    "import os\n",
    "from elasticsearch import Elasticsearch\n",
    "from elasticsearch.helpers import bulk\n",
    "import fitz  # PyMuPDF\n",
    "import docx\n",
    "import nltk\n",
    "from nltk.corpus import stopwords\n",
    "from nltk.tokenize import word_tokenize\n",
    "from rich.console import Console\n",
    "from rich.table import Table\n",
    "from rich import box\n"
   ]
  },
  {
   "cell_type": "code",
   "execution_count": 4,
   "metadata": {},
   "outputs": [
    {
     "ename": "ValueError",
     "evalue": "Could not connect to Elasticsearch",
     "output_type": "error",
     "traceback": [
      "\u001b[1;31m---------------------------------------------------------------------------\u001b[0m",
      "\u001b[1;31mValueError\u001b[0m                                Traceback (most recent call last)",
      "Cell \u001b[1;32mIn[4], line 6\u001b[0m\n\u001b[0;32m      4\u001b[0m \u001b[38;5;66;03m# Check if the client is connected\u001b[39;00m\n\u001b[0;32m      5\u001b[0m \u001b[38;5;28;01mif\u001b[39;00m \u001b[38;5;129;01mnot\u001b[39;00m es\u001b[38;5;241m.\u001b[39mping():\n\u001b[1;32m----> 6\u001b[0m     \u001b[38;5;28;01mraise\u001b[39;00m \u001b[38;5;167;01mValueError\u001b[39;00m(\u001b[38;5;124m\"\u001b[39m\u001b[38;5;124mCould not connect to Elasticsearch\u001b[39m\u001b[38;5;124m\"\u001b[39m)\n",
      "\u001b[1;31mValueError\u001b[0m: Could not connect to Elasticsearch"
     ]
    }
   ],
   "source": [
    "\n",
    "# Initialize Elasticsearch client (Adjust this section based on your setup)\n",
    "es = Elasticsearch(hosts=[\"http://localhost:9200\"])\n",
    "\n",
    "# Check if the client is connected\n",
    "if not es.ping():\n",
    "    raise ValueError(\"Could not connect to Elasticsearch\")\n"
   ]
  },
  {
   "cell_type": "code",
   "execution_count": null,
   "metadata": {},
   "outputs": [],
   "source": [
    "\n",
    "# Read PDF documents\n",
    "def read_pdf(file_path):\n",
    "    doc = fitz.open(file_path)\n",
    "    content = \"\"\n",
    "    for page in doc:\n",
    "        content += page.get_text()\n",
    "    return content\n",
    "\n",
    "# Read DOCX documents\n",
    "def read_docx(file_path):\n",
    "    doc = docx.Document(file_path)\n",
    "    content = \"\\n\".join([paragraph.text for paragraph in doc.paragraphs])\n",
    "    return content\n",
    "\n",
    "# Read documents from a folder\n",
    "def read_documents_from_folder(folder_path):\n",
    "    documents = []\n",
    "    for filename in os.listdir(folder_path):\n",
    "        if filename.endswith(\".txt\"):\n",
    "            with open(os.path.join(folder_path, filename), 'r', encoding='utf-8') as file:\n",
    "                content = file.read()\n",
    "        elif filename.endswith(\".pdf\"):\n",
    "            content = read_pdf(os.path.join(folder_path, filename))\n",
    "        elif filename.endswith(\".docx\"):\n",
    "            content = read_docx(os.path.join(folder_path, filename))\n",
    "        else:\n",
    "            continue\n",
    "        \n",
    "        documents.append({\n",
    "            \"title\": filename,\n",
    "            \"content\": content\n",
    "        })\n",
    "    return documents\n"
   ]
  },
  {
   "cell_type": "code",
   "execution_count": null,
   "metadata": {},
   "outputs": [],
   "source": [
    "\n",
    "folder_path = 'Documents'\n",
    "documents = read_documents_from_folder(folder_path)\n",
    "\n",
    "# Index documents into Elasticsearch\n",
    "def index_documents(es, index_name, documents):\n",
    "    actions = [\n",
    "        {\n",
    "            \"_index\": index_name,\n",
    "            \"_source\": doc\n",
    "        }\n",
    "        for doc in documents\n",
    "    ]\n",
    "    bulk(es, actions)\n",
    "\n",
    "index_name = 'documents'\n",
    "index_documents(es, index_name, documents)\n"
   ]
  },
  {
   "cell_type": "code",
   "execution_count": null,
   "metadata": {},
   "outputs": [],
   "source": [
    "\n",
    "# Download NLTK data\n",
    "nltk.download('punkt')\n",
    "nltk.download('stopwords')\n",
    "\n",
    "# Process user query\n",
    "def process_query(query):\n",
    "    stop_words = set(stopwords.words('english'))\n",
    "    word_tokens = word_tokenize(query)\n",
    "    filtered_query = [w for w in word_tokens if w.lower() not in stop_words]\n",
    "    return ' '.join(filtered_query)\n",
    "\n",
    "# Search in Elasticsearch\n",
    "def search_documents(es, index_name, query):\n",
    "    body = {\n",
    "        \"query\": {\n",
    "            \"match\": {\n",
    "                \"content\": query\n",
    "            }\n",
    "        }\n",
    "    }\n",
    "    res = es.search(index=index_name, body=body)\n",
    "    return res['hits']['hits']\n"
   ]
  },
  {
   "cell_type": "code",
   "execution_count": null,
   "metadata": {},
   "outputs": [],
   "source": [
    "\n",
    "# Create a console object for rich\n",
    "console = Console()\n",
    "\n",
    "# User input\n",
    "user_query = \"Find the document with content about document 1\"\n",
    "processed_query = process_query(user_query)\n",
    "\n",
    "# Execute search\n",
    "search_results = search_documents(es, index_name, processed_query)\n",
    "\n",
    "# Display results\n",
    "console.print(\"\\n[bold magenta]🔍 Search Results:[/bold magenta]\")\n",
    "results_table = Table(box=box.ROUNDED, show_header=True, header_style=\"bold blue\")\n",
    "results_table.add_column(\"Title\", style=\"dim\", width=20)\n",
    "results_table.add_column(\"Content\", style=\"cyan\", width=50)\n",
    "\n",
    "for result in search_results:\n",
    "    results_table.add_row(result['_source']['title'], result['_source']['content'])\n",
    "\n",
    "console.print(results_table)\n"
   ]
  }
 ],
 "metadata": {
  "kernelspec": {
   "display_name": "TF-gpu",
   "language": "python",
   "name": "python3"
  },
  "language_info": {
   "codemirror_mode": {
    "name": "ipython",
    "version": 3
   },
   "file_extension": ".py",
   "mimetype": "text/x-python",
   "name": "python",
   "nbconvert_exporter": "python",
   "pygments_lexer": "ipython3",
   "version": "3.10.13"
  }
 },
 "nbformat": 4,
 "nbformat_minor": 2
}
