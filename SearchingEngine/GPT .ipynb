{
 "cells": [
  {
   "cell_type": "code",
   "execution_count": 6,
   "metadata": {},
   "outputs": [],
   "source": [
    "import os"
   ]
  },
  {
   "cell_type": "code",
   "execution_count": 7,
   "metadata": {},
   "outputs": [],
   "source": [
    "def read_documents(folder_path):\n",
    "    documents = {}\n",
    "    if not os.path.exists(folder_path):\n",
    "        print(\"Error: Folder path does not exist.\")\n",
    "        return documents\n",
    "    \n",
    "    #print(\"Files in the folder:\")\n",
    "    for filename in os.listdir(folder_path):\n",
    "        #print(filename)\n",
    "        if filename.endswith(\".text\"):  # Modified to look for .text files\n",
    "            with open(os.path.join(folder_path, filename), \"r\") as file:\n",
    "                documents[filename] = file.read()\n",
    "    if not documents:\n",
    "        print(\"Error: No text documents found in the specified folder.\")\n",
    "    return documents\n"
   ]
  },
  {
   "cell_type": "code",
   "execution_count": 8,
   "metadata": {},
   "outputs": [],
   "source": [
    "def search(query, documents):\n",
    "    results = []\n",
    "    for filename, content in documents.items():\n",
    "        if all(word in content.lower() for word in query):\n",
    "            results.append(filename)\n",
    "    return results\n"
   ]
  },
  {
   "cell_type": "code",
   "execution_count": 9,
   "metadata": {},
   "outputs": [],
   "source": [
    "\n",
    "def main():\n",
    "    folder_path = \"Documents\"\n",
    "    documents = read_documents(folder_path)\n",
    "    if not documents:\n",
    "        return\n",
    "    \n",
    "    query = input(\"Enter your query: \").lower().split()\n",
    "    results = search(query, documents)\n",
    "    if results:\n",
    "        print(\"Matching documents found:\")\n",
    "        for result in results:\n",
    "            print(result)\n",
    "    else:\n",
    "        print(\"No matching documents found.\")\n"
   ]
  },
  {
   "cell_type": "code",
   "execution_count": 10,
   "metadata": {},
   "outputs": [
    {
     "name": "stdout",
     "output_type": "stream",
     "text": [
      "Matching documents found:\n",
      "fffff.text\n"
     ]
    }
   ],
   "source": [
    "\n",
    "if __name__ == \"__main__\":\n",
    "    main()"
   ]
  }
 ],
 "metadata": {
  "kernelspec": {
   "display_name": "TF-gpu",
   "language": "python",
   "name": "python3"
  },
  "language_info": {
   "codemirror_mode": {
    "name": "ipython",
    "version": 3
   },
   "file_extension": ".py",
   "mimetype": "text/x-python",
   "name": "python",
   "nbconvert_exporter": "python",
   "pygments_lexer": "ipython3",
   "version": "3.11.7"
  }
 },
 "nbformat": 4,
 "nbformat_minor": 2
}
